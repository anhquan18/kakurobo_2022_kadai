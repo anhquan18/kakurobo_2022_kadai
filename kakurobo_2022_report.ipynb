{
 "cells": [
  {
   "cell_type": "markdown",
   "id": "235becac",
   "metadata": {},
   "source": [
    "# 確率ロボティクス課題\n",
    "\n",
    "## 問題\n",
    "学生Cは自動走行ロボットのソフトウェアを改良した。改良したソフトウェアの性能を評価するため、改良前と改良後のソフトウェアでロボットをそれぞれ5回走らせて結果を比較した。ロボットの走行結果は以下の表のようになる。\n",
    "\n",
    "| 走行結果 | 改良前 | 改良後 |\n",
    "| --- | --- | --- |\n",
    "| 1回目 |　完走 | 完走 |\n",
    "| 2回目 |　失敗 | 完走 |\n",
    "| 3回目 |　失敗 | 完走 |\n",
    "| 4回目 |　完走 | 完走 |\n",
    "| 5回目 |　完走 | 完走 |\n",
    "\n",
    "学生Cが行った実験の結果に基づき、ベイズ統計でソフトウェアの改良前後の完走率を評価せよ。"
   ]
  },
  {
   "cell_type": "markdown",
   "id": "20b867e5",
   "metadata": {},
   "source": [
    "## 確率分布で完走率を調査\n",
    "\n",
    "### 信頼できる実験結果\n",
    "\n",
    "学生Cは改良したソフトウェアの性能を評価するために、走行実験を行った。改良後の完走回数が改良前より多ければソフトウェアの性能がよくなったと判断できるだろう。しかし、信頼できる統計結果を調査するため、数万回以上の実験を行う必要がある。学生Cが行った実験回数はわずか5回だったため、改良後の完走率を調査するには不十分である。実験回数を増やすと、信頼できる結果に近づく事はできるが数万回の試行回数はさすがにコストが高いので、現実的な方法とは言えない。そこでベイズ統計を用いて`完走率がどの値になるかの確率`という`確率の確率`を考える事で、数万回実験しなくても信頼できる完走率を調べる事ができる。"
   ]
  },
  {
   "cell_type": "markdown",
   "id": "f00f06de",
   "metadata": {},
   "source": [
    "### 試行後の完走率の確率の計算式\n",
    "\n",
    "完走率を$t$、実験後の走行結果を$a$(完走か失敗)とする。したがって、完走率の確率を$p(t)$、$p(t)$は1回の実験ごとに結果$a$によって変化するため、完走率の確率を$p(t)$から$p(t|a)$に変化する。ここで、確率の乗法定理を用いて以下の式が成り立つ。\n",
    "\n",
    "$$\n",
    "p(t,a) = p(t|a)p(a)\n",
    "$$\n",
    "$$\n",
    "p(t,a) = p(a|t)p(t)\n",
    "$$\n",
    "\n",
    "上記の2つの公式の右辺から、以下のベイズの定理の公式を導く事ができる。\n",
    "\n",
    "$$\n",
    "p(t|a) = \\frac{p(a|t)p(t)}{p(a)}\n",
    "$$\n",
    "\n",
    "$t$は完走率、$a4は$t$であるときの走行の結果なので\n",
    "\n",
    "$$\n",
    "    p(t|a) =\n",
    "        \\begin{cases}\n",
    "            t \\quad (a:完走) \\\\\n",
    "            1-t \\quad (a:失敗) \\\\\n",
    "        \\end{cases}\n",
    "$$\n",
    "\n",
    "$\\eta = 1/p(a)$とすると\n",
    "\n",
    "$$\n",
    "p(t|a) = \\eta p(a|t)p(t)\n",
    "$$\n",
    "\n",
    "ここで、\n",
    "- $p(t)$は$a$の結果がわかる前の完走率の確率\n",
    "- $p(t|a)$は$a$の結果がわかった後の完走率の確率\n",
    "- $p(a|t)$は完走率$t$があると時に$a$の起こる確率\n",
    "- $\\eta$は$p(t|a)$の規格化定数\n",
    "\n",
    "また、$p(t)$は実験結果$a$に基づいて$p(t|a)$に変化するため、実験回数を$i$と置くと以下の式が得られる。\n",
    "\n",
    "$$\n",
    "p(t|a_{1:i+1}) = \\eta p(a_{i+1}|t)p(t|a_{1:i})\n",
    "$$\n",
    "\n",
    "以上、完走率の計算式を導入した。"
   ]
  },
  {
   "cell_type": "markdown",
   "id": "b2193ea2",
   "metadata": {},
   "source": [
    "### 学生Cの実験で完走率を評価\n",
    "\n",
    "完走率$t$と完走率の確率$p(t)$は確率なので、離散型の数字で近似して表す事ができる。\n",
    "\n",
    "$$\n",
    "t = 0.00,0.01,0.02,...,1.00 \\\\\n",
    "p(t) = 0.00,0.01,0.02,...,1.00 \\\\\n",
    "$$\n",
    "\n",
    "また、1回目の実験結果$a_1$がわかる前、$t$が上記の101個の値である確率全部同じであると仮説できる。\n",
    "\n",
    "$$\n",
    "p(t) = 1/101 \\quad (t = 0.00,0.01,0.02,...,1.00)\n",
    "$$"
   ]
  },
  {
   "cell_type": "code",
   "execution_count": 1,
   "id": "9ef4e4c6",
   "metadata": {},
   "outputs": [
    {
     "name": "stdout",
     "output_type": "stream",
     "text": [
      "[0.0, 0.01, 0.02, 0.03, 0.04, 0.05, 0.06, 0.07, 0.08, 0.09, 0.1, 0.11, 0.12, 0.13, 0.14, 0.15, 0.16, 0.17, 0.18, 0.19, 0.2, 0.21, 0.22, 0.23, 0.24, 0.25, 0.26, 0.27, 0.28, 0.29, 0.3, 0.31, 0.32, 0.33, 0.34, 0.35, 0.36, 0.37, 0.38, 0.39, 0.4, 0.41, 0.42, 0.43, 0.44, 0.45, 0.46, 0.47, 0.48, 0.49, 0.5, 0.51, 0.52, 0.53, 0.54, 0.55, 0.56, 0.57, 0.58, 0.59, 0.6, 0.61, 0.62, 0.63, 0.64, 0.65, 0.66, 0.67, 0.68, 0.69, 0.7, 0.71, 0.72, 0.73, 0.74, 0.75, 0.76, 0.77, 0.78, 0.79, 0.8, 0.81, 0.82, 0.83, 0.84, 0.85, 0.86, 0.87, 0.88, 0.89, 0.9, 0.91, 0.92, 0.93, 0.94, 0.95, 0.96, 0.97, 0.98, 0.99, 1.0]\n"
     ]
    },
    {
     "data": {
      "text/plain": [
       "<Figure size 640x480 with 0 Axes>"
      ]
     },
     "metadata": {},
     "output_type": "display_data"
    }
   ],
   "source": [
    "%matplotlib inline\n",
    "import matplotlib.pyplot as plt\n",
    "import numpy as np\n",
    "\n",
    "plt.figure(1)\n",
    "val_num = 101\n",
    "val_list = [i/100.0 for i in range(val_num)]\n",
    "print(val_list)"
   ]
  },
  {
   "cell_type": "code",
   "execution_count": 2,
   "id": "bdb309a8",
   "metadata": {
    "scrolled": true
   },
   "outputs": [
    {
     "name": "stdout",
     "output_type": "stream",
     "text": [
      "[0.00990099 0.00990099 0.00990099 0.00990099 0.00990099 0.00990099\n",
      " 0.00990099 0.00990099 0.00990099 0.00990099 0.00990099 0.00990099\n",
      " 0.00990099 0.00990099 0.00990099 0.00990099 0.00990099 0.00990099\n",
      " 0.00990099 0.00990099 0.00990099 0.00990099 0.00990099 0.00990099\n",
      " 0.00990099 0.00990099 0.00990099 0.00990099 0.00990099 0.00990099\n",
      " 0.00990099 0.00990099 0.00990099 0.00990099 0.00990099 0.00990099\n",
      " 0.00990099 0.00990099 0.00990099 0.00990099 0.00990099 0.00990099\n",
      " 0.00990099 0.00990099 0.00990099 0.00990099 0.00990099 0.00990099\n",
      " 0.00990099 0.00990099 0.00990099 0.00990099 0.00990099 0.00990099\n",
      " 0.00990099 0.00990099 0.00990099 0.00990099 0.00990099 0.00990099\n",
      " 0.00990099 0.00990099 0.00990099 0.00990099 0.00990099 0.00990099\n",
      " 0.00990099 0.00990099 0.00990099 0.00990099 0.00990099 0.00990099\n",
      " 0.00990099 0.00990099 0.00990099 0.00990099 0.00990099 0.00990099\n",
      " 0.00990099 0.00990099 0.00990099 0.00990099 0.00990099 0.00990099\n",
      " 0.00990099 0.00990099 0.00990099 0.00990099 0.00990099 0.00990099\n",
      " 0.00990099 0.00990099 0.00990099 0.00990099 0.00990099 0.00990099\n",
      " 0.00990099 0.00990099 0.00990099 0.00990099 0.00990099]\n"
     ]
    }
   ],
   "source": [
    "p_t_0 = np.array([1/val_num for i in range(val_num)])\n",
    "print(p_t_0)"
   ]
  },
  {
   "cell_type": "markdown",
   "id": "02d86370",
   "metadata": {},
   "source": [
    "$p(a|t)$の実装"
   ]
  },
  {
   "cell_type": "code",
   "execution_count": 3,
   "id": "dcd9d07a",
   "metadata": {},
   "outputs": [],
   "source": [
    "def likelihood(result):\n",
    "    if result:\n",
    "        return np.array([1/val_num * i for i in range(val_num)])\n",
    "    else:\n",
    "        return np.array([1 - (1/val_num * i) for i in range(val_num)])"
   ]
  },
  {
   "cell_type": "markdown",
   "id": "4ed2d633",
   "metadata": {},
   "source": [
    "規格化定数$\\eta$の実装"
   ]
  },
  {
   "cell_type": "code",
   "execution_count": 4,
   "id": "a9da8b52",
   "metadata": {},
   "outputs": [],
   "source": [
    "def normalize(post_dist):\n",
    "    return post_dist/np.sum(post_dist)"
   ]
  },
  {
   "cell_type": "markdown",
   "id": "0611abd9",
   "metadata": {},
   "source": [
    "学生Cの実験結果は以下の表のようになるため\n",
    "\n",
    "| 走行結果 | 改良前 | 改良後 |\n",
    "| --- | --- | --- |\n",
    "| 1回目 |　完走 | 完走 |\n",
    "| 2回目 |　失敗 | 完走 |\n",
    "| 3回目 |　失敗 | 完走 |\n",
    "| 4回目 |　完走 | 完走 |\n",
    "| 5回目 |　完走 | 完走 |"
   ]
  },
  {
   "cell_type": "code",
   "execution_count": 5,
   "id": "d6a69272",
   "metadata": {},
   "outputs": [],
   "source": [
    "result_before = [1,0,0,1,1]\n",
    "result_after = [1,1,1,1,1]"
   ]
  },
  {
   "cell_type": "markdown",
   "id": "777f9730",
   "metadata": {},
   "source": [
    "$p(t|a_{1:i+1}) = \\eta p(a_{i+1}|t)p(t|a_{1:i})$の実装"
   ]
  },
  {
   "cell_type": "code",
   "execution_count": 6,
   "id": "3861b861",
   "metadata": {},
   "outputs": [
    {
     "data": {
      "image/png": "[encoded data removed]",
      "text/plain": [
       "<Figure size 640x480 with 6 Axes>"
      ]
     },
     "metadata": {},
     "output_type": "display_data"
    }
   ],
   "source": [
    "# 確率分布の変化リスト\n",
    "post_dist_before = [np.copy(p_t_0)]\n",
    "post_dist_after = [np.copy(p_t_0)]\n",
    "\n",
    "p_t = np.copy(p_t_0)\n",
    "# 改良前の評価\n",
    "for r in result_before:\n",
    "    dist = p_t * likelihood(r)\n",
    "    p_t = normalize(dist)\n",
    "    post_dist_before.append(np.copy(p_t))\n",
    "\n",
    "for i, dist in enumerate(post_dist_before):\n",
    "    plt.subplot(231+i)\n",
    "    ax = plt.gca()\n",
    "    ax.set_ylim([0, 0.08])\n",
    "    ax.plot(val_list, dist)"
   ]
  },
  {
   "cell_type": "code",
   "execution_count": 7,
   "id": "96adca50",
   "metadata": {},
   "outputs": [
    {
     "data": {
      "image/png": "[encoded data removed]",
      "text/plain": [
       "<Figure size 640x480 with 6 Axes>"
      ]
     },
     "metadata": {},
     "output_type": "display_data"
    }
   ],
   "source": [
    "p_t = np.copy(p_t_0)\n",
    "# 改良後の評価\n",
    "for r in result_after:\n",
    "    dist = p_t * likelihood(r)\n",
    "    p_t = normalize(dist)\n",
    "    post_dist_after.append(np.copy(p_t))\n",
    "\n",
    "for i, dist in enumerate(post_dist_after):\n",
    "    plt.subplot(231+i)\n",
    "    ax = plt.gca()\n",
    "    ax.set_ylim([0, 0.08])\n",
    "    ax.plot(val_list, dist)"
   ]
  },
  {
   "cell_type": "markdown",
   "id": "630a0510",
   "metadata": {},
   "source": [
    "### まとめ\n",
    "\n",
    "以上、ベイズ統計用いて学生Cが改良したソフトウェアの改良前と改良後の完走率がどう変化するのかを評価した。学生Cが行った実験回数はまだまだ足りないが、改良前と比べて改良後の完走率の方が高いと言えるだろう。"
   ]
  }
 ],
 "metadata": {
  "kernelspec": {
   "display_name": "Python 3 (ipykernel)",
   "language": "python",
   "name": "python3"
  },
  "language_info": {
   "codemirror_mode": {
    "name": "ipython",
    "version": 3
   },
   "file_extension": ".py",
   "mimetype": "text/x-python",
   "name": "python",
   "nbconvert_exporter": "python",
   "pygments_lexer": "ipython3",
   "version": "3.8.10"
  }
 },
 "nbformat": 4,
 "nbformat_minor": 5
}
